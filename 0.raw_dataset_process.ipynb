{
 "cells": [
  {
   "cell_type": "code",
   "execution_count": 1,
   "metadata": {},
   "outputs": [],
   "source": [
    "import pm4py\n",
    "import pandas as pd\n",
    "import os\n",
    "import random\n",
    "import gzip"
   ]
  },
  {
   "cell_type": "code",
   "execution_count": 6,
   "metadata": {},
   "outputs": [],
   "source": [
    "# namedataset=\"Helpdesk\"\n",
    "# namedataset=\"BPI_Challenge_2012_W_Complete\"\n",
    "# namedataset=\"BPI_Challenge_2012_W\"\n",
    "# namedataset=\"BPI_Challenge_2012_A\"\n",
    "namedataset=\"BPI_Challenge_2012_O\""
   ]
  },
  {
   "cell_type": "code",
   "execution_count": 7,
   "metadata": {},
   "outputs": [
    {
     "data": {
      "application/vnd.jupyter.widget-view+json": {
       "model_id": "ba9ee9686f6c428180134563f095db6f",
       "version_major": 2,
       "version_minor": 0
      },
      "text/plain": [
       "parsing log, completed traces ::   0%|          | 0/4012 [00:00<?, ?it/s]"
      ]
     },
     "metadata": {},
     "output_type": "display_data"
    },
    {
     "data": {
      "application/vnd.jupyter.widget-view+json": {
       "model_id": "093379f8e8a145aa965691198410e746",
       "version_major": 2,
       "version_minor": 0
      },
      "text/plain": [
       "parsing log, completed traces ::   0%|          | 0/802 [00:00<?, ?it/s]"
      ]
     },
     "metadata": {},
     "output_type": "display_data"
    },
    {
     "data": {
      "application/vnd.jupyter.widget-view+json": {
       "model_id": "c85e4b41b18e47b8acd4968eb0d296a6",
       "version_major": 2,
       "version_minor": 0
      },
      "text/plain": [
       "parsing log, completed traces ::   0%|          | 0/1003 [00:00<?, ?it/s]"
      ]
     },
     "metadata": {},
     "output_type": "display_data"
    },
    {
     "data": {
      "application/vnd.jupyter.widget-view+json": {
       "model_id": "da0bd84e92664e52b0e103070ba1bc5a",
       "version_major": 2,
       "version_minor": 0
      },
      "text/plain": [
       "parsing log, completed traces ::   0%|          | 0/3210 [00:00<?, ?it/s]"
      ]
     },
     "metadata": {},
     "output_type": "display_data"
    },
    {
     "data": {
      "application/vnd.jupyter.widget-view+json": {
       "model_id": "783ac7ace97e48d186972a7b514da925",
       "version_major": 2,
       "version_minor": 0
      },
      "text/plain": [
       "parsing log, completed traces ::   0%|          | 0/4012 [00:00<?, ?it/s]"
      ]
     },
     "metadata": {},
     "output_type": "display_data"
    },
    {
     "data": {
      "application/vnd.jupyter.widget-view+json": {
       "model_id": "2c1d7df8dc10412199ba8c05f0e095bd",
       "version_major": 2,
       "version_minor": 0
      },
      "text/plain": [
       "parsing log, completed traces ::   0%|          | 0/802 [00:00<?, ?it/s]"
      ]
     },
     "metadata": {},
     "output_type": "display_data"
    },
    {
     "data": {
      "application/vnd.jupyter.widget-view+json": {
       "model_id": "af92baa5ff63469296c8785d668bd160",
       "version_major": 2,
       "version_minor": 0
      },
      "text/plain": [
       "parsing log, completed traces ::   0%|          | 0/1003 [00:00<?, ?it/s]"
      ]
     },
     "metadata": {},
     "output_type": "display_data"
    },
    {
     "data": {
      "application/vnd.jupyter.widget-view+json": {
       "model_id": "be072929c1004f608399c563b8805e28",
       "version_major": 2,
       "version_minor": 0
      },
      "text/plain": [
       "parsing log, completed traces ::   0%|          | 0/3210 [00:00<?, ?it/s]"
      ]
     },
     "metadata": {},
     "output_type": "display_data"
    },
    {
     "data": {
      "application/vnd.jupyter.widget-view+json": {
       "model_id": "5f1ba6dc9f424861b59b6902f469d344",
       "version_major": 2,
       "version_minor": 0
      },
      "text/plain": [
       "parsing log, completed traces ::   0%|          | 0/4012 [00:00<?, ?it/s]"
      ]
     },
     "metadata": {},
     "output_type": "display_data"
    },
    {
     "data": {
      "application/vnd.jupyter.widget-view+json": {
       "model_id": "4ceda9550ff040af8b11f9e0094cb0d1",
       "version_major": 2,
       "version_minor": 0
      },
      "text/plain": [
       "parsing log, completed traces ::   0%|          | 0/802 [00:00<?, ?it/s]"
      ]
     },
     "metadata": {},
     "output_type": "display_data"
    },
    {
     "data": {
      "application/vnd.jupyter.widget-view+json": {
       "model_id": "374c3ac1eb844ac6863d5c2971a4d6dc",
       "version_major": 2,
       "version_minor": 0
      },
      "text/plain": [
       "parsing log, completed traces ::   0%|          | 0/1003 [00:00<?, ?it/s]"
      ]
     },
     "metadata": {},
     "output_type": "display_data"
    },
    {
     "data": {
      "application/vnd.jupyter.widget-view+json": {
       "model_id": "0fefd05cc1cc4d54b81389c40a2c73a2",
       "version_major": 2,
       "version_minor": 0
      },
      "text/plain": [
       "parsing log, completed traces ::   0%|          | 0/3210 [00:00<?, ?it/s]"
      ]
     },
     "metadata": {},
     "output_type": "display_data"
    },
    {
     "data": {
      "application/vnd.jupyter.widget-view+json": {
       "model_id": "dd2f22d01fb648f0866a176e588f6660",
       "version_major": 2,
       "version_minor": 0
      },
      "text/plain": [
       "parsing log, completed traces ::   0%|          | 0/4012 [00:00<?, ?it/s]"
      ]
     },
     "metadata": {},
     "output_type": "display_data"
    },
    {
     "data": {
      "application/vnd.jupyter.widget-view+json": {
       "model_id": "58f3994690df439989674192ccff947f",
       "version_major": 2,
       "version_minor": 0
      },
      "text/plain": [
       "parsing log, completed traces ::   0%|          | 0/802 [00:00<?, ?it/s]"
      ]
     },
     "metadata": {},
     "output_type": "display_data"
    },
    {
     "data": {
      "application/vnd.jupyter.widget-view+json": {
       "model_id": "d66e1f439ce640b8a3f35822d921719e",
       "version_major": 2,
       "version_minor": 0
      },
      "text/plain": [
       "parsing log, completed traces ::   0%|          | 0/1003 [00:00<?, ?it/s]"
      ]
     },
     "metadata": {},
     "output_type": "display_data"
    },
    {
     "data": {
      "application/vnd.jupyter.widget-view+json": {
       "model_id": "e7a5cdc91f9541a2bb4883a0c7c7f201",
       "version_major": 2,
       "version_minor": 0
      },
      "text/plain": [
       "parsing log, completed traces ::   0%|          | 0/3210 [00:00<?, ?it/s]"
      ]
     },
     "metadata": {},
     "output_type": "display_data"
    },
    {
     "data": {
      "application/vnd.jupyter.widget-view+json": {
       "model_id": "b452f31cc562495eb220b3a7b51f0bc1",
       "version_major": 2,
       "version_minor": 0
      },
      "text/plain": [
       "parsing log, completed traces ::   0%|          | 0/4012 [00:00<?, ?it/s]"
      ]
     },
     "metadata": {},
     "output_type": "display_data"
    },
    {
     "data": {
      "application/vnd.jupyter.widget-view+json": {
       "model_id": "6416165faf874101b08209f7fe956864",
       "version_major": 2,
       "version_minor": 0
      },
      "text/plain": [
       "parsing log, completed traces ::   0%|          | 0/802 [00:00<?, ?it/s]"
      ]
     },
     "metadata": {},
     "output_type": "display_data"
    },
    {
     "data": {
      "application/vnd.jupyter.widget-view+json": {
       "model_id": "06e18f4757f740bf9fb916bc388feccc",
       "version_major": 2,
       "version_minor": 0
      },
      "text/plain": [
       "parsing log, completed traces ::   0%|          | 0/1003 [00:00<?, ?it/s]"
      ]
     },
     "metadata": {},
     "output_type": "display_data"
    },
    {
     "data": {
      "application/vnd.jupyter.widget-view+json": {
       "model_id": "fd828eae2fff4391b0ebacdfff5154d8",
       "version_major": 2,
       "version_minor": 0
      },
      "text/plain": [
       "parsing log, completed traces ::   0%|          | 0/3210 [00:00<?, ?it/s]"
      ]
     },
     "metadata": {},
     "output_type": "display_data"
    }
   ],
   "source": [
    "for i in range(5):\n",
    "    train_val_file=\"raw_datasets/train_val_fold\"+str(i)+\"_variation0_\"+namedataset+\".xes.gz\"\n",
    "    train_file=\"raw_datasets/train_fold\"+str(i)+\"_variation0_\"+namedataset+\".xes.gz\"\n",
    "    val_file=\"raw_datasets/val_fold\"+str(i)+\"_variation0_\"+namedataset+\".xes.gz\"\n",
    "    test_file=\"raw_datasets/test_fold\"+str(i)+\"_variation0_\"+namedataset+\".xes.gz\"\n",
    "    if (not os.path.exists(\"datasets_results/\"+namedataset+\"/\"+\"fold\"+str(i))):\n",
    "         os.mkdir(\"datasets_results/\"+namedataset+\"/\"+\"fold\"+str(i))\n",
    "    if (not os.path.exists(\"processed_datasets/\"+namedataset+\"/\"+\"fold\"+str(i))):\n",
    "         os.mkdir(\"processed_datasets/\"+namedataset+\"/\"+\"fold\"+str(i))\n",
    "    paths=[\"train_val_\",\"val_\",\"test_\",\"train_\"]\n",
    "    file_paths=[train_val_file,val_file,test_file,train_file]\n",
    "    for j in range(4):\n",
    "        with gzip.open(file_paths[j],\"rb\") as f:\n",
    "            data=f.read()\n",
    "        with open(\"processed_datasets/\"+namedataset+\"/\"+\"fold\"+str(i)+\"/\"+paths[j]+namedataset+\".xes\",\"wb\") as f:\n",
    "            f.write(data)\n",
    "        event_log=pm4py.read_xes(\"processed_datasets/\"+namedataset+\"/\"+\"fold\"+str(i)+\"/\"+paths[j]+namedataset+\".xes\")\n",
    "        df=pm4py.convert_to_dataframe(event_log)\n",
    "        if \"2012\" in namedataset:\n",
    "            df=df.drop(columns=\"case:REG_DATE\").drop(columns=\"lifecycle:transition\")\n",
    "            df=df.rename(columns={'case:concept:name':'case'}).rename(columns={'org:resource':'resource'}).rename(columns={'time:timestamp':'CompleteTimestamp'}).rename(columns={'concept:name':'activity'}).rename(columns={'case:AMOUNT_REQ':'amount'})\n",
    "            order=['case','activity','resource','CompleteTimestamp',\"amount\"]\n",
    "            df=df[order]\n",
    "        else:\n",
    "            df=df.drop(columns=\"case:variant\").drop(columns=\"case:variant-index\").drop(columns=\"case:creator\").drop(columns=\"lifecycle:transition\").drop(columns=\"Activity\").drop(columns=\"Resource\")\n",
    "            df=df.rename(columns={'case:concept:name':'case'}).rename(columns={'org:resource':'resource'}).rename(columns={'time:timestamp':'CompleteTimestamp'}).rename(columns={'concept:name':'activity'})\n",
    "            order=['case','activity','resource','CompleteTimestamp']\n",
    "            df=df[order]\n",
    "        df.to_csv(\"processed_datasets/\"+namedataset+\"/\"+\"fold\"+str(i)+\"/\"+paths[j]+namedataset+\".csv\",index=False)"
   ]
  }
 ],
 "metadata": {
  "kernelspec": {
   "display_name": "Python 3.9.13 ('py3.9')",
   "language": "python",
   "name": "python3"
  },
  "language_info": {
   "codemirror_mode": {
    "name": "ipython",
    "version": 3
   },
   "file_extension": ".py",
   "mimetype": "text/x-python",
   "name": "python",
   "nbconvert_exporter": "python",
   "pygments_lexer": "ipython3",
   "version": "3.9.13"
  },
  "orig_nbformat": 4,
  "vscode": {
   "interpreter": {
    "hash": "2e67272651055d1832734db27dbe5c78ae7e6195044c32c87375667fa374755b"
   }
  }
 },
 "nbformat": 4,
 "nbformat_minor": 2
}
